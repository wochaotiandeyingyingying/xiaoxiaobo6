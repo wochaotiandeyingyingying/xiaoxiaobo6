{
 "cells": [
  {
   "cell_type": "markdown",
   "metadata": {
    "collapsed": true
   },
   "source": [
    "# Material Project\n",
    "\n",
    "MP本身就是由数据库(可通过The Materials API (MAPI)获得材料数据)和数据分析工具pymatgen两部分构的，其网页版是一个用户接口。mp里的数据分析都是通过我们现在看的pymatgen实现的。\n",
    "\n",
    "通过API我们可以用类似https://www.materialsproject.org/rest/v1/materials/Fe2O3/vasp的url从MP中获取数据。\n",
    "api用material id, formula, or chemical system这三个其中的一个作为关键词获取一个材料数据。\n",
    "\n",
    "material id材料的id。\n",
    "\n",
    "formula是化学公式，例如Fe3O4。\n",
    "\n",
    "chemical system是一列元素, e.g., Li-Fe-O，可以得到Li-Fe-O的所有组合Li, Fe, O, FexOy, LixOy, LixFey, LixFeyOz。\n",
    "\n"
   ]
  },
  {
   "cell_type": "code",
   "execution_count": null,
   "metadata": {},
   "outputs": [],
   "source": [
    ""
   ]
  }
 ],
 "metadata": {
  "kernelspec": {
   "display_name": "Python 2",
   "language": "python",
   "name": "python2"
  },
  "language_info": {
   "codemirror_mode": {
    "name": "ipython",
    "version": 2.0
   },
   "file_extension": ".py",
   "mimetype": "text/x-python",
   "name": "python",
   "nbconvert_exporter": "python",
   "pygments_lexer": "ipython2",
   "version": "2.7.6"
  }
 },
 "nbformat": 4,
 "nbformat_minor": 0
}