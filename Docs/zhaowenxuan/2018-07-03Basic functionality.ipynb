{
 "cells": [
  {
   "cell_type": "markdown",
   "metadata": {},
   "source": [
    "2018-7-3"
   ]
  },
  {
   "cell_type": "code",
   "execution_count": 1,
   "metadata": {},
   "outputs": [
    {
     "name": "stdout",
     "output_type": "stream",
     "text": [
      "Full Formula (Cs1 Cl1)\n",
      "Reduced Formula: CsCl\n",
      "abc   :   4.200000   4.200000   4.200000\n",
      "angles:  90.000000  90.000000  90.000000\n",
      "Sites (2)\n",
      "  #  SP      a    b    c\n",
      "---  ----  ---  ---  ---\n",
      "  0  Cs    0    0    0\n",
      "  1  Cl    0.5  0.5  0.5\n",
      "First site of the structure is [0. 0. 0.] Cs\n"
     ]
    }
   ],
   "source": [
    "import pymatgen as mg\n",
    "# Creates cubic Lattice with lattice parameter 4.2\n",
    "lattice = mg.Lattice.cubic(4.2)\n",
    "structure = mg.Structure(lattice, [\"Cs\", \"Cl\"], [[0, 0, 0], [0.5, 0.5, 0.5]])\n",
    "print(structure)\n",
    "print(\"First site of the structure is {}\".format(structure[0]))"
   ]
  },
  {
   "cell_type": "markdown",
   "metadata": {},
   "source": [
    "1、这是一个化学物质的结构通过，format（structure【0】）可以显示出CsCl结构矩阵中的第一行的数据。\n",
    "pymatgen基础模块里的Structure（）功能，就是做出一个化学物质的结构矩阵。\n",
    "\n",
    "Lattice，Bravais lattice（布拉维点阵）是为集中反映晶体结构的周期性而引入的一个概念，体现了晶体结构最基本的特点，即原子、离子或分子在空间排布上具有周期性。"
   ]
  },
  {
   "cell_type": "code",
   "execution_count": 10,
   "metadata": {},
   "outputs": [],
   "source": [
    "structure.to(filename=\"POSCAR\")\n",
    "structure.to(filename=\"CsCl.cif\")"
   ]
  },
  {
   "cell_type": "markdown",
   "metadata": {},
   "source": [
    "2、在pymatgen里我们可以对我们自己所创建出来的structure进行一些个性化的操作和改变，或者说是实验。\n",
    "最后我们可以对我们设计的最后的structure以文件的形式保存起来，根据我们自己的需求对输入输出文件任意确定文件的格式和扩展名。"
   ]
  },
  {
   "cell_type": "code",
   "execution_count": 11,
   "metadata": {},
   "outputs": [
    {
     "name": "stdout",
     "output_type": "stream",
     "text": [
      "Cs1 Cl1\n",
      "1.0\n",
      "4.200000 0.000000 0.000000\n",
      "0.000000 4.200000 0.000000\n",
      "0.000000 0.000000 4.200000\n",
      "Cs Cl\n",
      "1 1\n",
      "direct\n",
      "0.000000 0.000000 0.000000 Cs\n",
      "0.500000 0.500000 0.500000 Cl\n",
      "\n",
      "# generated using pymatgen\n",
      "data_CsCl\n",
      "_symmetry_space_group_name_H-M   'P 1'\n",
      "_cell_length_a   4.20000000\n",
      "_cell_length_b   4.20000000\n",
      "_cell_length_c   4.20000000\n",
      "_cell_angle_alpha   90.00000000\n",
      "_cell_angle_beta   90.00000000\n",
      "_cell_angle_gamma   90.00000000\n",
      "_symmetry_Int_Tables_number   1\n",
      "_chemical_formula_structural   CsCl\n",
      "_chemical_formula_sum   'Cs1 Cl1'\n",
      "_cell_volume   74.08800000\n",
      "_cell_formula_units_Z   1\n",
      "loop_\n",
      " _symmetry_equiv_pos_site_id\n",
      " _symmetry_equiv_pos_as_xyz\n",
      "  1  'x, y, z'\n",
      "loop_\n",
      " _atom_site_type_symbol\n",
      " _atom_site_label\n",
      " _atom_site_symmetry_multiplicity\n",
      " _atom_site_fract_x\n",
      " _atom_site_fract_y\n",
      " _atom_site_fract_z\n",
      " _atom_site_occupancy\n",
      "  Cs  Cs1  1  0.000000  0.000000  0.000000  1\n",
      "  Cl  Cl2  1  0.500000  0.500000  0.500000  1\n",
      "\n"
     ]
    }
   ],
   "source": [
    "structure = mg.Structure.from_file(\"POSCAR\")\n",
    "print(structure.to(fmt=\"poscar\"))\n",
    "print(structure.to(fmt=\"cif\"))"
   ]
  },
  {
   "cell_type": "markdown",
   "metadata": {},
   "source": [
    "3、并且我们还可以获取这些我们生成的文件，在后面可以加以利用或者输出查看。"
   ]
  },
  {
   "cell_type": "markdown",
   "metadata": {},
   "source": [
    "4、目前在第一个跑成功的例子中，发现了两个pymatgen的模块的使用。分别是 pymatgen.analysis和   pymatgen.symmetry的子包的使用。\n",
    " pymatgen.analysis模块主要是关于一些分析和判断的功能。\n",
    "pymatgen.symmetry模块主要是在结构对称性上一些相关问题的处理。"
   ]
  }
 ],
 "metadata": {
  "kernelspec": {
   "display_name": "Python 3",
   "language": "python",
   "name": "python3"
  },
  "language_info": {
   "codemirror_mode": {
    "name": "ipython",
    "version": 3.0
   },
   "file_extension": ".py",
   "mimetype": "text/x-python",
   "name": "python",
   "nbconvert_exporter": "python",
   "pygments_lexer": "ipython3",
   "version": "3.6.5"
  }
 },
 "nbformat": 4,
 "nbformat_minor": 0
}